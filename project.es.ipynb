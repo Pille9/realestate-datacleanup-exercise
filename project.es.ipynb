{
 "cells": [
  {
   "attachments": {},
   "cell_type": "markdown",
   "id": "innocent-university",
   "metadata": {},
   "source": [
    "# Limpieza de bienes raíces\n",
    "\n",
    "Este es un conjunto de datos (dataset) reales que fue descargado usando técnicas de web scraping. La data contiene registros de **Fotocasa**, el cual es uno de los sitios más populares de bienes raíces en España. Por favor no hagas esto (web scraping) a no ser que sea para propósitos académicos.\n",
    "\n",
    "El dataset fue descargado hace algunos años por Henry Navarro y en ningún caso se obtuvo beneficio económico de ello.\n",
    "\n",
    "Contiene miles de datos de casas reales publicadas en la web www.fotocasa.com. Tu objetivo es extraer tanta información como sea posible con el conocimiento que tienes hasta ahora de ciencia de datos, por ejemplo ¿cuál es la casa más cara en todo el dataset?\n",
    "\n",
    "Empecemos precisamente con esa pregunta... ¡Buena suerte!"
   ]
  },
  {
   "attachments": {},
   "cell_type": "markdown",
   "id": "multiple-glass",
   "metadata": {},
   "source": [
    "#### Ejercicio 00. Lee el dataset assets/real_estate.csv e intenta visualizar la tabla (★☆☆)"
   ]
  },
  {
   "cell_type": "code",
   "execution_count": 1,
   "id": "frank-heath",
   "metadata": {},
   "outputs": [
    {
     "data": {
      "text/html": [
       "<div>\n",
       "<style scoped>\n",
       "    .dataframe tbody tr th:only-of-type {\n",
       "        vertical-align: middle;\n",
       "    }\n",
       "\n",
       "    .dataframe tbody tr th {\n",
       "        vertical-align: top;\n",
       "    }\n",
       "\n",
       "    .dataframe thead th {\n",
       "        text-align: right;\n",
       "    }\n",
       "</style>\n",
       "<table border=\"1\" class=\"dataframe\">\n",
       "  <thead>\n",
       "    <tr style=\"text-align: right;\">\n",
       "      <th></th>\n",
       "      <th>Unnamed: 0</th>\n",
       "      <th>id_realEstates</th>\n",
       "      <th>isNew</th>\n",
       "      <th>realEstate_name</th>\n",
       "      <th>phone_realEstate</th>\n",
       "      <th>url_inmueble</th>\n",
       "      <th>rooms</th>\n",
       "      <th>bathrooms</th>\n",
       "      <th>surface</th>\n",
       "      <th>price</th>\n",
       "      <th>...</th>\n",
       "      <th>level4Id</th>\n",
       "      <th>level5Id</th>\n",
       "      <th>level6Id</th>\n",
       "      <th>level7Id</th>\n",
       "      <th>level8Id</th>\n",
       "      <th>accuracy</th>\n",
       "      <th>latitude</th>\n",
       "      <th>longitude</th>\n",
       "      <th>zipCode</th>\n",
       "      <th>customZone</th>\n",
       "    </tr>\n",
       "  </thead>\n",
       "  <tbody>\n",
       "    <tr>\n",
       "      <th>0</th>\n",
       "      <td>1</td>\n",
       "      <td>153771986</td>\n",
       "      <td>False</td>\n",
       "      <td>ferrari 57 inmobiliaria</td>\n",
       "      <td>912177526.0</td>\n",
       "      <td>https://www.fotocasa.es/es/comprar/vivienda/ma...</td>\n",
       "      <td>3.0</td>\n",
       "      <td>2.0</td>\n",
       "      <td>103.0</td>\n",
       "      <td>195000</td>\n",
       "      <td>...</td>\n",
       "      <td>0</td>\n",
       "      <td>0</td>\n",
       "      <td>0</td>\n",
       "      <td>0</td>\n",
       "      <td>0</td>\n",
       "      <td>0</td>\n",
       "      <td>40,2948276786438</td>\n",
       "      <td>-3,44402412135624</td>\n",
       "      <td>NaN</td>\n",
       "      <td>NaN</td>\n",
       "    </tr>\n",
       "    <tr>\n",
       "      <th>1</th>\n",
       "      <td>2</td>\n",
       "      <td>153867863</td>\n",
       "      <td>False</td>\n",
       "      <td>tecnocasa fuenlabrada ferrocarril</td>\n",
       "      <td>916358736.0</td>\n",
       "      <td>https://www.fotocasa.es/es/comprar/vivienda/ma...</td>\n",
       "      <td>3.0</td>\n",
       "      <td>1.0</td>\n",
       "      <td>NaN</td>\n",
       "      <td>89000</td>\n",
       "      <td>...</td>\n",
       "      <td>0</td>\n",
       "      <td>0</td>\n",
       "      <td>0</td>\n",
       "      <td>0</td>\n",
       "      <td>0</td>\n",
       "      <td>1</td>\n",
       "      <td>40,28674</td>\n",
       "      <td>-3,79351</td>\n",
       "      <td>NaN</td>\n",
       "      <td>NaN</td>\n",
       "    </tr>\n",
       "    <tr>\n",
       "      <th>2</th>\n",
       "      <td>3</td>\n",
       "      <td>153430440</td>\n",
       "      <td>False</td>\n",
       "      <td>look find boadilla</td>\n",
       "      <td>916350408.0</td>\n",
       "      <td>https://www.fotocasa.es/es/comprar/vivienda/ma...</td>\n",
       "      <td>2.0</td>\n",
       "      <td>2.0</td>\n",
       "      <td>99.0</td>\n",
       "      <td>390000</td>\n",
       "      <td>...</td>\n",
       "      <td>0</td>\n",
       "      <td>0</td>\n",
       "      <td>0</td>\n",
       "      <td>0</td>\n",
       "      <td>0</td>\n",
       "      <td>0</td>\n",
       "      <td>40,4115646786438</td>\n",
       "      <td>-3,90662252135624</td>\n",
       "      <td>NaN</td>\n",
       "      <td>NaN</td>\n",
       "    </tr>\n",
       "    <tr>\n",
       "      <th>3</th>\n",
       "      <td>4</td>\n",
       "      <td>152776331</td>\n",
       "      <td>False</td>\n",
       "      <td>tecnocasa fuenlabrada ferrocarril</td>\n",
       "      <td>916358736.0</td>\n",
       "      <td>https://www.fotocasa.es/es/comprar/vivienda/ma...</td>\n",
       "      <td>3.0</td>\n",
       "      <td>1.0</td>\n",
       "      <td>86.0</td>\n",
       "      <td>89000</td>\n",
       "      <td>...</td>\n",
       "      <td>0</td>\n",
       "      <td>0</td>\n",
       "      <td>0</td>\n",
       "      <td>0</td>\n",
       "      <td>0</td>\n",
       "      <td>0</td>\n",
       "      <td>40,2853785786438</td>\n",
       "      <td>-3,79508142135624</td>\n",
       "      <td>NaN</td>\n",
       "      <td>NaN</td>\n",
       "    </tr>\n",
       "    <tr>\n",
       "      <th>4</th>\n",
       "      <td>5</td>\n",
       "      <td>153180188</td>\n",
       "      <td>False</td>\n",
       "      <td>ferrari 57 inmobiliaria</td>\n",
       "      <td>912177526.0</td>\n",
       "      <td>https://www.fotocasa.es/es/comprar/vivienda/ma...</td>\n",
       "      <td>2.0</td>\n",
       "      <td>2.0</td>\n",
       "      <td>106.0</td>\n",
       "      <td>172000</td>\n",
       "      <td>...</td>\n",
       "      <td>0</td>\n",
       "      <td>0</td>\n",
       "      <td>0</td>\n",
       "      <td>0</td>\n",
       "      <td>0</td>\n",
       "      <td>0</td>\n",
       "      <td>40,2998774864376</td>\n",
       "      <td>-3,45226301356237</td>\n",
       "      <td>NaN</td>\n",
       "      <td>NaN</td>\n",
       "    </tr>\n",
       "    <tr>\n",
       "      <th>...</th>\n",
       "      <td>...</td>\n",
       "      <td>...</td>\n",
       "      <td>...</td>\n",
       "      <td>...</td>\n",
       "      <td>...</td>\n",
       "      <td>...</td>\n",
       "      <td>...</td>\n",
       "      <td>...</td>\n",
       "      <td>...</td>\n",
       "      <td>...</td>\n",
       "      <td>...</td>\n",
       "      <td>...</td>\n",
       "      <td>...</td>\n",
       "      <td>...</td>\n",
       "      <td>...</td>\n",
       "      <td>...</td>\n",
       "      <td>...</td>\n",
       "      <td>...</td>\n",
       "      <td>...</td>\n",
       "      <td>...</td>\n",
       "      <td>...</td>\n",
       "    </tr>\n",
       "    <tr>\n",
       "      <th>15330</th>\n",
       "      <td>15331</td>\n",
       "      <td>153901377</td>\n",
       "      <td>False</td>\n",
       "      <td>infocasa consulting</td>\n",
       "      <td>911360461.0</td>\n",
       "      <td>https://www.fotocasa.es/es/comprar/vivienda/ma...</td>\n",
       "      <td>2.0</td>\n",
       "      <td>1.0</td>\n",
       "      <td>96.0</td>\n",
       "      <td>259470</td>\n",
       "      <td>...</td>\n",
       "      <td>0</td>\n",
       "      <td>0</td>\n",
       "      <td>0</td>\n",
       "      <td>0</td>\n",
       "      <td>0</td>\n",
       "      <td>0</td>\n",
       "      <td>40,45416</td>\n",
       "      <td>-3,70286</td>\n",
       "      <td>NaN</td>\n",
       "      <td>NaN</td>\n",
       "    </tr>\n",
       "    <tr>\n",
       "      <th>15331</th>\n",
       "      <td>15332</td>\n",
       "      <td>150394373</td>\n",
       "      <td>False</td>\n",
       "      <td>inmobiliaria pulpon</td>\n",
       "      <td>912788039.0</td>\n",
       "      <td>https://www.fotocasa.es/es/comprar/vivienda/ma...</td>\n",
       "      <td>3.0</td>\n",
       "      <td>1.0</td>\n",
       "      <td>150.0</td>\n",
       "      <td>165000</td>\n",
       "      <td>...</td>\n",
       "      <td>0</td>\n",
       "      <td>0</td>\n",
       "      <td>0</td>\n",
       "      <td>0</td>\n",
       "      <td>0</td>\n",
       "      <td>0</td>\n",
       "      <td>40,36652</td>\n",
       "      <td>-3,48951</td>\n",
       "      <td>NaN</td>\n",
       "      <td>NaN</td>\n",
       "    </tr>\n",
       "    <tr>\n",
       "      <th>15332</th>\n",
       "      <td>15333</td>\n",
       "      <td>153901397</td>\n",
       "      <td>False</td>\n",
       "      <td>tecnocasa torrelodones</td>\n",
       "      <td>912780348.0</td>\n",
       "      <td>https://www.fotocasa.es/es/comprar/vivienda/ma...</td>\n",
       "      <td>4.0</td>\n",
       "      <td>2.0</td>\n",
       "      <td>175.0</td>\n",
       "      <td>495000</td>\n",
       "      <td>...</td>\n",
       "      <td>0</td>\n",
       "      <td>0</td>\n",
       "      <td>0</td>\n",
       "      <td>0</td>\n",
       "      <td>0</td>\n",
       "      <td>0</td>\n",
       "      <td>40,57444</td>\n",
       "      <td>-3,92124</td>\n",
       "      <td>NaN</td>\n",
       "      <td>NaN</td>\n",
       "    </tr>\n",
       "    <tr>\n",
       "      <th>15333</th>\n",
       "      <td>15334</td>\n",
       "      <td>152607440</td>\n",
       "      <td>False</td>\n",
       "      <td>inmobiliaria pulpon</td>\n",
       "      <td>912788039.0</td>\n",
       "      <td>https://www.fotocasa.es/es/comprar/vivienda/ma...</td>\n",
       "      <td>3.0</td>\n",
       "      <td>2.0</td>\n",
       "      <td>101.0</td>\n",
       "      <td>195000</td>\n",
       "      <td>...</td>\n",
       "      <td>0</td>\n",
       "      <td>0</td>\n",
       "      <td>0</td>\n",
       "      <td>0</td>\n",
       "      <td>0</td>\n",
       "      <td>0</td>\n",
       "      <td>40,36967</td>\n",
       "      <td>-3,48105</td>\n",
       "      <td>NaN</td>\n",
       "      <td>NaN</td>\n",
       "    </tr>\n",
       "    <tr>\n",
       "      <th>15334</th>\n",
       "      <td>15335</td>\n",
       "      <td>153901356</td>\n",
       "      <td>False</td>\n",
       "      <td>infocasa consulting</td>\n",
       "      <td>911360461.0</td>\n",
       "      <td>https://www.fotocasa.es/es/comprar/vivienda/ma...</td>\n",
       "      <td>3.0</td>\n",
       "      <td>2.0</td>\n",
       "      <td>152.0</td>\n",
       "      <td>765000</td>\n",
       "      <td>...</td>\n",
       "      <td>0</td>\n",
       "      <td>0</td>\n",
       "      <td>0</td>\n",
       "      <td>0</td>\n",
       "      <td>0</td>\n",
       "      <td>0</td>\n",
       "      <td>40,45773</td>\n",
       "      <td>-3,69068</td>\n",
       "      <td>NaN</td>\n",
       "      <td>NaN</td>\n",
       "    </tr>\n",
       "  </tbody>\n",
       "</table>\n",
       "<p>15335 rows × 37 columns</p>\n",
       "</div>"
      ],
      "text/plain": [
       "       Unnamed: 0  id_realEstates  isNew                    realEstate_name  \\\n",
       "0               1       153771986  False            ferrari 57 inmobiliaria   \n",
       "1               2       153867863  False  tecnocasa fuenlabrada ferrocarril   \n",
       "2               3       153430440  False                 look find boadilla   \n",
       "3               4       152776331  False  tecnocasa fuenlabrada ferrocarril   \n",
       "4               5       153180188  False            ferrari 57 inmobiliaria   \n",
       "...           ...             ...    ...                                ...   \n",
       "15330       15331       153901377  False                infocasa consulting   \n",
       "15331       15332       150394373  False                inmobiliaria pulpon   \n",
       "15332       15333       153901397  False             tecnocasa torrelodones   \n",
       "15333       15334       152607440  False                inmobiliaria pulpon   \n",
       "15334       15335       153901356  False                infocasa consulting   \n",
       "\n",
       "       phone_realEstate                                       url_inmueble  \\\n",
       "0           912177526.0  https://www.fotocasa.es/es/comprar/vivienda/ma...   \n",
       "1           916358736.0  https://www.fotocasa.es/es/comprar/vivienda/ma...   \n",
       "2           916350408.0  https://www.fotocasa.es/es/comprar/vivienda/ma...   \n",
       "3           916358736.0  https://www.fotocasa.es/es/comprar/vivienda/ma...   \n",
       "4           912177526.0  https://www.fotocasa.es/es/comprar/vivienda/ma...   \n",
       "...                 ...                                                ...   \n",
       "15330       911360461.0  https://www.fotocasa.es/es/comprar/vivienda/ma...   \n",
       "15331       912788039.0  https://www.fotocasa.es/es/comprar/vivienda/ma...   \n",
       "15332       912780348.0  https://www.fotocasa.es/es/comprar/vivienda/ma...   \n",
       "15333       912788039.0  https://www.fotocasa.es/es/comprar/vivienda/ma...   \n",
       "15334       911360461.0  https://www.fotocasa.es/es/comprar/vivienda/ma...   \n",
       "\n",
       "       rooms  bathrooms  surface   price  ... level4Id level5Id level6Id  \\\n",
       "0        3.0        2.0    103.0  195000  ...        0        0        0   \n",
       "1        3.0        1.0      NaN   89000  ...        0        0        0   \n",
       "2        2.0        2.0     99.0  390000  ...        0        0        0   \n",
       "3        3.0        1.0     86.0   89000  ...        0        0        0   \n",
       "4        2.0        2.0    106.0  172000  ...        0        0        0   \n",
       "...      ...        ...      ...     ...  ...      ...      ...      ...   \n",
       "15330    2.0        1.0     96.0  259470  ...        0        0        0   \n",
       "15331    3.0        1.0    150.0  165000  ...        0        0        0   \n",
       "15332    4.0        2.0    175.0  495000  ...        0        0        0   \n",
       "15333    3.0        2.0    101.0  195000  ...        0        0        0   \n",
       "15334    3.0        2.0    152.0  765000  ...        0        0        0   \n",
       "\n",
       "      level7Id level8Id accuracy          latitude          longitude zipCode  \\\n",
       "0            0        0        0  40,2948276786438  -3,44402412135624     NaN   \n",
       "1            0        0        1          40,28674           -3,79351     NaN   \n",
       "2            0        0        0  40,4115646786438  -3,90662252135624     NaN   \n",
       "3            0        0        0  40,2853785786438  -3,79508142135624     NaN   \n",
       "4            0        0        0  40,2998774864376  -3,45226301356237     NaN   \n",
       "...        ...      ...      ...               ...                ...     ...   \n",
       "15330        0        0        0          40,45416           -3,70286     NaN   \n",
       "15331        0        0        0          40,36652           -3,48951     NaN   \n",
       "15332        0        0        0          40,57444           -3,92124     NaN   \n",
       "15333        0        0        0          40,36967           -3,48105     NaN   \n",
       "15334        0        0        0          40,45773           -3,69068     NaN   \n",
       "\n",
       "      customZone  \n",
       "0            NaN  \n",
       "1            NaN  \n",
       "2            NaN  \n",
       "3            NaN  \n",
       "4            NaN  \n",
       "...          ...  \n",
       "15330        NaN  \n",
       "15331        NaN  \n",
       "15332        NaN  \n",
       "15333        NaN  \n",
       "15334        NaN  \n",
       "\n",
       "[15335 rows x 37 columns]"
      ]
     },
     "metadata": {},
     "output_type": "display_data"
    }
   ],
   "source": [
    "import pandas as pd\n",
    "import numpy as np\n",
    "import matplotlib.pyplot as plt\n",
    "from IPython.display import display\n",
    "\n",
    "# Este archivo CSV contiene puntos y comas en lugar de comas como separadores\n",
    "ds = pd.read_csv('assets/real_estate.csv', sep=';')\n",
    "display(ds)"
   ]
  },
  {
   "attachments": {},
   "cell_type": "markdown",
   "id": "latin-guest",
   "metadata": {},
   "source": [
    "#### Ejercicio 01. ¿Cuál es la casa más cara en todo el dataset? (★☆☆)\n",
    "\n",
    "Imprime la dirección y el precio de la casa seleccionada. Por ejemplo:\n",
    "\n",
    "`La casa con dirección en Calle del Prado, Nº20 es la más cara y su precio es de 5000000 USD`"
   ]
  },
  {
   "cell_type": "code",
   "execution_count": 2,
   "id": "developing-optimum",
   "metadata": {},
   "outputs": [
    {
     "name": "stdout",
     "output_type": "stream",
     "text": [
      "La casa más cara está en El Escorial y su precio es de 8500000 USD\n"
     ]
    }
   ],
   "source": [
    "# TODO\n",
    "casa_mas_cara = ds.loc[ds['price'].idxmax()]\n",
    "print(f\"La casa más cara está en {casa_mas_cara['address']} y su precio es de {casa_mas_cara['price']} USD\")"
   ]
  },
  {
   "attachments": {},
   "cell_type": "markdown",
   "id": "lesser-cosmetic",
   "metadata": {},
   "source": [
    "#### Ejercicio 02. ¿Cuál es la casa más barata del dataset? (★☆☆)\n",
    "\n",
    "Imprime la dirección y el precio de la casa seleccionada. Por ejemplo:\n",
    "\n",
    "`La casa con dirección en Calle Alcalá, Nº58 es la más barata y su precio es de 12000 USD`"
   ]
  },
  {
   "cell_type": "code",
   "execution_count": 3,
   "id": "lovely-oasis",
   "metadata": {},
   "outputs": [
    {
     "name": "stdout",
     "output_type": "stream",
     "text": [
      "La casa más barata está en Mayor, Los Santos de la Humosa y su precio es de 16200 USD\n"
     ]
    }
   ],
   "source": [
    "# TODO\n",
    "ds_filtrado = ds[ds['price'] > 1000]\n",
    "casa_mas_barata = ds_filtrado.loc[ds_filtrado['price'].idxmin()]\n",
    "print(f\"La casa más barata está en {casa_mas_barata['address']} y su precio es de {casa_mas_barata['price']} USD\")"
   ]
  },
  {
   "attachments": {},
   "cell_type": "markdown",
   "id": "compliant-fellowship",
   "metadata": {},
   "source": [
    "#### Ejercicio 03. ¿Cuál es la casa más grande y la más pequeña del dataset? (★☆☆)\n",
    "\n",
    "Imprime la dirección y el área de las casas seleccionadas. Por ejemplo:\n",
    "\n",
    "`La casa más grande está ubicada en Calle Gran Vía, Nº38 y su superficie es de 5000 metros`\n",
    "\n",
    "`La casa más pequeña está ubicada en Calle Mayor, Nº12 y su superficie es de 200 metros`"
   ]
  },
  {
   "cell_type": "code",
   "execution_count": 4,
   "id": "every-tiffany",
   "metadata": {},
   "outputs": [
    {
     "name": "stdout",
     "output_type": "stream",
     "text": [
      "La casa más grande está ubicada en Sevilla la Nueva y su superficie es de 249000.0 metros\n",
      "La casa más pequeña está ubicada en Calle Amparo,  Madrid Capital y su superficie es de 15.0 metros\n"
     ]
    }
   ],
   "source": [
    "# TODO\n",
    "casa_mas_grande = ds.loc[ds['surface'].idxmax()]\n",
    "casa_mas_pequeña = ds.loc[ds['surface'].idxmin()]\n",
    "print(f\"La casa más grande está ubicada en {casa_mas_grande['address']} y su superficie es de {casa_mas_grande['surface']} metros\")\n",
    "print(f\"La casa más pequeña está ubicada en {casa_mas_pequeña['address']} y su superficie es de {casa_mas_pequeña['surface']} metros\")"
   ]
  },
  {
   "attachments": {},
   "cell_type": "markdown",
   "id": "danish-spirit",
   "metadata": {},
   "source": [
    "#### Ejercicio 04. ¿Cuantas poblaciones (columna level5) contiene el dataset? (★☆☆)\n",
    "\n",
    "Imprime el nombre de las poblaciones separadas por coma. Por ejemplo:\n",
    "\n",
    "`> print(populations)`\n",
    "\n",
    "`population1, population2, population3, ...`"
   ]
  },
  {
   "cell_type": "code",
   "execution_count": 5,
   "id": "exciting-accreditation",
   "metadata": {},
   "outputs": [
    {
     "name": "stdout",
     "output_type": "stream",
     "text": [
      "Cantidad de poblaciones: 168\n",
      "Arganda del Rey, Fuenlabrada, Boadilla del Monte, Las Rozas de Madrid,  Madrid Capital, Villaviciosa de Odón, Pinto, Valdemoro, Navalcarnero, Pozuelo de Alarcón, Torrejón de Ardoz, Navalagamella, San Sebastián de los Reyes, Rivas-vaciamadrid, Alpedrete, Móstoles, San Fernando de Henares, Coslada, Becerril de la Sierra, Alcalá de Henares, Chinchón, Parla, Alcorcón, El Escorial, Leganés, Pedrezuela, Majadahonda, Villanueva de la Cañada, Villanueva del Pardillo, Torrelodones, Moralzarzal, Mejorada del Campo, Aranjuez, Corpa, Getafe, Velilla de San Antonio, Sevilla la Nueva, San Martín de la Vega, Villalbilla, Collado Villalba, Alcobendas, El Molar (Madrid), Moraleja de Enmedio, Algete, Campo Real, Torrejón de la Calzada, Colmenar Viejo, Valdemorillo, Fuente El Saz de Jarama, Tres Cantos, Arroyomolinos (Madrid), Griñón, Paracuellos de Jarama, Guadarrama, Titulcia, Galapagar, Collado Mediano, Los Molinos, San Lorenzo de El Escorial, Loeches, San Martín de Valdeiglesias, Navas del Rey, Bustarviejo, Manzanares El Real, Carabaña, Casarrubuelos, Cercedilla, Fresnedillas de la Oliva, Valdemaqueda, Robledo de Chavela, Miraflores de la Sierra, Humanes de Madrid, Valdetorres de Jarama, San Agustín del Guadalix, Ciempozuelos, Camarma de Esteruelas, Torres de la Alameda, Talamanca de Jarama, El Atazar, Hoyo de Manzanares, El Boalo - Cerceda – Mataelpino, El Álamo, Valdilecha, Valdeolmos-Alalpardo, Guadalix de la Sierra, Belmonte de Tajo, El Vellón, Brunete, Redueña, Morata de Tajuña, Tielmes, Gargantilla del Lozoya, Meco, Venturada, Quijorna, Cenicientos, Torrejón de Velasco, Navacerrada, Santa María de la Alameda, Orusco de Tajuña, Daganzo de Arriba, Villamanta, Anchuelo, Valdaracete, Ajalvir, Los Santos de la Humosa, Villamanrique de Tajo, Colmenar de Oreja, Villa del Prado, Fuentidueña de Tajo, Colmenar del Arroyo, Valdelaguna, Cubas de la Sagra, Valdeavero, Aldea del Fresno, Ribatejada, Torrelaguna, Batres, Pezuela de las Torres, Colmenarejo, Serranillos del Valle, Cobeña, Soto del Real, El Berrueco, Villanueva de Perales, Fresno de Torote - Serracines, Pozuelo del Rey, Pelayos de la Presa, La Cabrera, Nuevo Baztán, Perales de Tajuña, Villaconejos, Villarejo de Salvanés, Cadalso de los Vidrios, Santorcaz, Madarcos, Garganta de los Montes, Puentes Viejas, Torremocha de Jarama, Valdemanco, Braojos, Lozoyuela-navas-sieteiglesias, Piñuécar-gandullas, Valdepiélagos, Valverde de Alcalá, Villar del Olmo, Villamantilla, Horcajo de la Sierra, Gascones, Zarzalejo, Villavieja del Lozoya, Brea de Tajo, Estremera, Chapinería, Navarredonda, Patones, Ambite, Navalafuente, Lozoya, Canencia, Cabanillas de la Sierra, Buitrago del Lozoya, Fresno de Torote, Robregordo, Pinilla del Valle, Rascafría, La Hiruela, Montejo de la Sierra\n"
     ]
    }
   ],
   "source": [
    "# TODO\n",
    "poblaciones = ds['level5'].unique()\n",
    "num_poblaciones = len(poblaciones)\n",
    "print(f\"Cantidad de poblaciones: {num_poblaciones}\")\n",
    "print(', '.join(poblaciones))"
   ]
  },
  {
   "attachments": {},
   "cell_type": "markdown",
   "id": "crazy-blame",
   "metadata": {},
   "source": [
    "#### Ejercicio 05. ¿El dataset contiene valores no admitidos (NAs)? (★☆☆)\n",
    "\n",
    "Imprima un booleano (`True` o `False`) seguido de la fila/columna que contiene el NAs."
   ]
  },
  {
   "cell_type": "code",
   "execution_count": 6,
   "id": "transparent-poetry",
   "metadata": {},
   "outputs": [
    {
     "name": "stdout",
     "output_type": "stream",
     "text": [
      "True\n",
      "Unnamed: 0          False\n",
      "id_realEstates      False\n",
      "isNew               False\n",
      "realEstate_name      True\n",
      "phone_realEstate     True\n",
      "url_inmueble        False\n",
      "rooms                True\n",
      "bathrooms            True\n",
      "surface              True\n",
      "price               False\n",
      "date                False\n",
      "description          True\n",
      "address             False\n",
      "country             False\n",
      "level1              False\n",
      "level2              False\n",
      "level3              False\n",
      "level4               True\n",
      "level5              False\n",
      "level6               True\n",
      "level7               True\n",
      "level8               True\n",
      "upperLevel          False\n",
      "countryId           False\n",
      "level1Id            False\n",
      "level2Id            False\n",
      "level3Id            False\n",
      "level4Id            False\n",
      "level5Id            False\n",
      "level6Id            False\n",
      "level7Id            False\n",
      "level8Id            False\n",
      "accuracy            False\n",
      "latitude            False\n",
      "longitude           False\n",
      "zipCode              True\n",
      "customZone           True\n",
      "dtype: bool\n",
      "0        True\n",
      "1        True\n",
      "2        True\n",
      "3        True\n",
      "4        True\n",
      "         ... \n",
      "15330    True\n",
      "15331    True\n",
      "15332    True\n",
      "15333    True\n",
      "15334    True\n",
      "Length: 15335, dtype: bool\n"
     ]
    }
   ],
   "source": [
    "# TODO\n",
    "## Algun NA en el dataset?\n",
    "print(ds.isnull().values.any())\n",
    "## Algun NA columna por columna\n",
    "print(ds.isnull().any())\n",
    "##Algun NA fila por fila\n",
    "print(ds.isnull().any(axis=1))"
   ]
  },
  {
   "attachments": {},
   "cell_type": "markdown",
   "id": "italic-hydrogen",
   "metadata": {},
   "source": [
    "#### Ejercicio 06. Elimina los NAs del dataset, si aplica (★★☆)\n",
    "\n",
    "Imprima una comparación entre las dimensiones del DataFrame original versus el DataFrame después de las eliminaciones.\n"
   ]
  },
  {
   "cell_type": "code",
   "execution_count": 7,
   "id": "administrative-roads",
   "metadata": {},
   "outputs": [
    {
     "name": "stdout",
     "output_type": "stream",
     "text": [
      "Dimensiones originales: (15335, 37)\n",
      "Dimensiones después de las eliminaciones: (15335, 35)\n"
     ]
    }
   ],
   "source": [
    "# TODO\n",
    "dimension_original = ds.shape\n",
    "ds_limpio = ds.dropna(axis=1, how=\"all\")\n",
    "dimension_limpio = ds_limpio.shape\n",
    "print(f\"Dimensiones originales: {dimension_original}\")\n",
    "print(f\"Dimensiones después de las eliminaciones: {dimension_limpio}\")"
   ]
  },
  {
   "attachments": {},
   "cell_type": "markdown",
   "id": "middle-china",
   "metadata": {},
   "source": [
    "#### Ejercicio 07. ¿Cuál la media de precios en la población (columna level5) de \"Arroyomolinos (Madrid)\"? (★★☆)\n",
    "\n",
    "Imprima el valor obtenido."
   ]
  },
  {
   "cell_type": "code",
   "execution_count": 8,
   "id": "nuclear-belief",
   "metadata": {},
   "outputs": [
    {
     "name": "stdout",
     "output_type": "stream",
     "text": [
      "La media de precios en Arroyomolinos es de: 294541.59854014596\n"
     ]
    }
   ],
   "source": [
    "# TODO\n",
    "ds_arroyomolinos = ds[ds['level5'] == \"Arroyomolinos (Madrid)\"]\n",
    "media_precios_arroyomolinos = ds_arroyomolinos['price'].mean()\n",
    "print(f\"La media de precios en Arroyomolinos es de: {media_precios_arroyomolinos}\")"
   ]
  },
  {
   "attachments": {},
   "cell_type": "markdown",
   "id": "concerned-radical",
   "metadata": {},
   "source": [
    "#### Ejercicio 08. Trazar el histograma de los precios para la población (level5 column) de \"Arroyomolinos (Madrid)\" y explica qué observas (★★☆)\n",
    "\n",
    "Imprime el histograma de los precios y escribe en la celda del Markdown un breve análisis del trazado.\n"
   ]
  },
  {
   "cell_type": "code",
   "execution_count": 9,
   "id": "sudden-message",
   "metadata": {},
   "outputs": [
    {
     "data": {
      "image/png": "[encoded data removed]",
      "text/plain": [
       "<Figure size 1000x500 with 1 Axes>"
      ]
     },
     "metadata": {},
     "output_type": "display_data"
    }
   ],
   "source": [
    "# TODO: Code\n",
    "plt.figure(figsize = (10, 5))\n",
    "plt.hist(ds_arroyomolinos[\"price\"], bins = 50, alpha = 0.7)\n",
    "plt.title(\"Histograma precios Arroyomolinos\")\n",
    "plt.xlabel(\"Precio\")\n",
    "plt.ylabel(\"Frecuencia\")\n",
    "plt.show()"
   ]
  },
  {
   "attachments": {},
   "cell_type": "markdown",
   "id": "impressed-combination",
   "metadata": {},
   "source": [
    "En el histograma de los precios en Arroyomolinos, se puede observar que la mayor parte de los precios se encuentran en el tramo entre los 200000 y los 400000 con el pico más alto algo por debajo de los 300000."
   ]
  },
  {
   "attachments": {},
   "cell_type": "markdown",
   "id": "actual-edinburgh",
   "metadata": {},
   "source": [
    "#### Ejercicio 09. ¿Son los precios promedios de \"Valdemorillo\" y \"Galapagar\" los mismos? (★★☆)\n",
    "\n",
    "Imprime ambos promedios y escribe una conclusión sobre ellos."
   ]
  },
  {
   "cell_type": "code",
   "execution_count": 10,
   "id": "numeric-commerce",
   "metadata": {},
   "outputs": [
    {
     "name": "stdout",
     "output_type": "stream",
     "text": [
      "La media de precios en Valdemorillo es de: 363860.2931034483 y la de Galapagar es de: 360063.20238095237\n"
     ]
    }
   ],
   "source": [
    "# TODO\n",
    "ds_valdemorillo = ds[ds['level5'] == 'Valdemorillo']\n",
    "ds_galapagar = ds[ds['level5'] == 'Galapagar']\n",
    "media_precios_valdemorillo = ds_valdemorillo['price'].mean()\n",
    "media_precios_galapagar = ds_galapagar['price'].mean()\n",
    "print(f\"La media de precios en Valdemorillo es de: {media_precios_valdemorillo} y la de Galapagar es de: {media_precios_galapagar}\")"
   ]
  },
  {
   "cell_type": "markdown",
   "id": "f9c6618f",
   "metadata": {},
   "source": [
    "Observando la media de precios de Valdemorillo y Galapagar, se podría decir que son prácticamente iguales."
   ]
  },
  {
   "attachments": {},
   "cell_type": "markdown",
   "id": "lonely-article",
   "metadata": {},
   "source": [
    "#### Ejercicio 10. ¿Son los promedios de precio por metro cuadrado (precio/m2) de \"Valdemorillo\" y \"Galapagar\" los mismos? (★★☆)\n",
    "\n",
    "Imprime ambos promedios de precio por metro cuadrado y escribe una conclusión sobre ellos.\n",
    "\n",
    "Pista: Crea una nueva columna llamada `pps` (*price per square* o precio por metro cuadrado) y luego analiza los valores."
   ]
  },
  {
   "cell_type": "code",
   "execution_count": 11,
   "id": "hourly-globe",
   "metadata": {},
   "outputs": [
    {
     "name": "stdout",
     "output_type": "stream",
     "text": [
      "La media del precio/m2 de Valdemorillo es de 1317.9502109024986 y la de Galapagar es de 1606.3240303094024\n"
     ]
    }
   ],
   "source": [
    "# TODO\n",
    "ds['pps'] = ds['price'].div(ds['surface'])\n",
    "ds_valdemorillo = ds[ds['level5'] == 'Valdemorillo']\n",
    "ds_galapagar = ds[ds['level5'] == 'Galapagar']\n",
    "media_pps_valdemorillo = ds_valdemorillo['pps'].mean()\n",
    "media_pps_galapagar = ds_galapagar['pps'].mean()\n",
    "print(f\"La media del precio/m2 de Valdemorillo es de {media_pps_valdemorillo} y la de Galapagar es de {media_pps_galapagar}\")\n"
   ]
  },
  {
   "cell_type": "markdown",
   "id": "4f9dafc5",
   "metadata": {},
   "source": [
    "Las medias presentan una diferencia de 300, lo que implica que de media, en Valdemorillo es más barato el precio/m2."
   ]
  },
  {
   "attachments": {},
   "cell_type": "markdown",
   "id": "pleasant-invite",
   "metadata": {},
   "source": [
    "#### Ejercicio 11. Analiza la relación entre la superficie y el precio de las casas. (★★☆)\n",
    "\n",
    "Pista: Puedes hacer un `scatter plot` y luego escribir una conclusión al respecto."
   ]
  },
  {
   "cell_type": "code",
   "execution_count": 12,
   "id": "common-drilling",
   "metadata": {},
   "outputs": [
    {
     "data": {
      "image/png": "[encoded data removed]",
      "text/plain": [
       "<Figure size 1000x500 with 1 Axes>"
      ]
     },
     "metadata": {},
     "output_type": "display_data"
    },
    {
     "data": {
      "image/png": "[encoded data removed]",
      "text/plain": [
       "<Figure size 1000x500 with 1 Axes>"
      ]
     },
     "metadata": {},
     "output_type": "display_data"
    }
   ],
   "source": [
    "# TODO: Código\n",
    "plt.figure(figsize = (10,5))\n",
    "plt.scatter(ds['surface'], ds['price'])\n",
    "plt.xlim(0,3000)\n",
    "plt.title('Relación entre superficie y precio')\n",
    "plt.xlabel('Superficie')\n",
    "plt.ylabel('Precio')\n",
    "plt.show()\n",
    "\n",
    "plt.figure(figsize=(10,5))\n",
    "plt.scatter(ds_galapagar[\"surface\"], ds_galapagar[\"price\"])\n",
    "plt.xlim(0, 2000)\n",
    "plt.title(\"Relación superficie-precio Galapagar\")\n",
    "plt.xlabel('Superficie')\n",
    "plt.ylabel('Precio')\n",
    "plt.show()\n"
   ]
  },
  {
   "attachments": {},
   "cell_type": "markdown",
   "id": "ahead-liquid",
   "metadata": {},
   "source": [
    "En el gráfico de Relación superficie-precio Galapagar, se puede observar la correlación positiva entre la superficie y el precio de las casas. Sin embargo, en el gráfico general, esta relación no se ve tan clara ya que, el precio de las casas se ve influenciado por otros factores como la población en la que se encuentra."
   ]
  },
  {
   "attachments": {},
   "cell_type": "markdown",
   "id": "coordinate-sunrise",
   "metadata": {},
   "source": [
    "#### Ejercicio 12. ¿Cuántas agencia de bienes raíces contiene el dataset? (★★☆)\n",
    "\n",
    "Imprime el valor obtenido."
   ]
  },
  {
   "cell_type": "code",
   "execution_count": 13,
   "id": "valid-honolulu",
   "metadata": {},
   "outputs": [
    {
     "name": "stdout",
     "output_type": "stream",
     "text": [
      "El dataset contiene 1822 agencias de bienes raíces\n"
     ]
    }
   ],
   "source": [
    "# TODO\n",
    "agencias = ds['realEstate_name'].unique()\n",
    "print(f\"El dataset contiene {len(agencias)} agencias de bienes raíces\")\n"
   ]
  },
  {
   "attachments": {},
   "cell_type": "markdown",
   "id": "binding-ebony",
   "metadata": {},
   "source": [
    "#### Ejercicio 13. ¿Cuál es la población (columna level5) que contiene la mayor cantidad de casas?(★★☆)\n",
    "\n",
    "Imprima la población y el número de casas."
   ]
  },
  {
   "cell_type": "code",
   "execution_count": 14,
   "id": "static-perry",
   "metadata": {},
   "outputs": [
    {
     "name": "stdout",
     "output_type": "stream",
     "text": [
      "level5\n",
      "Madrid Capital    6643\n",
      "dtype: int64\n"
     ]
    }
   ],
   "source": [
    "# TODO\n",
    "conteo_casas = ds.groupby('level5').size().sort_values(ascending=False)\n",
    "print(conteo_casas.head(1))"
   ]
  },
  {
   "attachments": {},
   "cell_type": "markdown",
   "id": "entire-classification",
   "metadata": {},
   "source": [
    "#### Ejercicio 14. Ahora vamos a trabajar con el \"cinturón sur\" de Madrid. Haz un subconjunto del DataFrame original que contenga las siguientes poblaciones (columna level5): \"Fuenlabrada\", \"Leganés\", \"Getafe\", \"Alcorcón\" (★★☆)\n",
    "\n",
    "Pista: Filtra el DataFrame original usando la columna `level5` y la función `isin`."
   ]
  },
  {
   "cell_type": "code",
   "execution_count": 15,
   "id": "binary-input",
   "metadata": {},
   "outputs": [
    {
     "data": {
      "text/html": [
       "<div>\n",
       "<style scoped>\n",
       "    .dataframe tbody tr th:only-of-type {\n",
       "        vertical-align: middle;\n",
       "    }\n",
       "\n",
       "    .dataframe tbody tr th {\n",
       "        vertical-align: top;\n",
       "    }\n",
       "\n",
       "    .dataframe thead th {\n",
       "        text-align: right;\n",
       "    }\n",
       "</style>\n",
       "<table border=\"1\" class=\"dataframe\">\n",
       "  <thead>\n",
       "    <tr style=\"text-align: right;\">\n",
       "      <th></th>\n",
       "      <th>Unnamed: 0</th>\n",
       "      <th>id_realEstates</th>\n",
       "      <th>isNew</th>\n",
       "      <th>realEstate_name</th>\n",
       "      <th>phone_realEstate</th>\n",
       "      <th>url_inmueble</th>\n",
       "      <th>rooms</th>\n",
       "      <th>bathrooms</th>\n",
       "      <th>surface</th>\n",
       "      <th>price</th>\n",
       "      <th>...</th>\n",
       "      <th>level5Id</th>\n",
       "      <th>level6Id</th>\n",
       "      <th>level7Id</th>\n",
       "      <th>level8Id</th>\n",
       "      <th>accuracy</th>\n",
       "      <th>latitude</th>\n",
       "      <th>longitude</th>\n",
       "      <th>zipCode</th>\n",
       "      <th>customZone</th>\n",
       "      <th>pps</th>\n",
       "    </tr>\n",
       "  </thead>\n",
       "  <tbody>\n",
       "    <tr>\n",
       "      <th>1</th>\n",
       "      <td>2</td>\n",
       "      <td>153867863</td>\n",
       "      <td>False</td>\n",
       "      <td>tecnocasa fuenlabrada ferrocarril</td>\n",
       "      <td>916358736.0</td>\n",
       "      <td>https://www.fotocasa.es/es/comprar/vivienda/ma...</td>\n",
       "      <td>3.0</td>\n",
       "      <td>1.0</td>\n",
       "      <td>NaN</td>\n",
       "      <td>89000</td>\n",
       "      <td>...</td>\n",
       "      <td>0</td>\n",
       "      <td>0</td>\n",
       "      <td>0</td>\n",
       "      <td>0</td>\n",
       "      <td>1</td>\n",
       "      <td>40,28674</td>\n",
       "      <td>-3,79351</td>\n",
       "      <td>NaN</td>\n",
       "      <td>NaN</td>\n",
       "      <td>NaN</td>\n",
       "    </tr>\n",
       "    <tr>\n",
       "      <th>3</th>\n",
       "      <td>4</td>\n",
       "      <td>152776331</td>\n",
       "      <td>False</td>\n",
       "      <td>tecnocasa fuenlabrada ferrocarril</td>\n",
       "      <td>916358736.0</td>\n",
       "      <td>https://www.fotocasa.es/es/comprar/vivienda/ma...</td>\n",
       "      <td>3.0</td>\n",
       "      <td>1.0</td>\n",
       "      <td>86.0</td>\n",
       "      <td>89000</td>\n",
       "      <td>...</td>\n",
       "      <td>0</td>\n",
       "      <td>0</td>\n",
       "      <td>0</td>\n",
       "      <td>0</td>\n",
       "      <td>0</td>\n",
       "      <td>40,2853785786438</td>\n",
       "      <td>-3,79508142135624</td>\n",
       "      <td>NaN</td>\n",
       "      <td>NaN</td>\n",
       "      <td>1034.883721</td>\n",
       "    </tr>\n",
       "    <tr>\n",
       "      <th>85</th>\n",
       "      <td>86</td>\n",
       "      <td>153152077</td>\n",
       "      <td>False</td>\n",
       "      <td>sinergical inmobiliaria</td>\n",
       "      <td>NaN</td>\n",
       "      <td>https://www.fotocasa.es/es/comprar/vivienda/le...</td>\n",
       "      <td>1.0</td>\n",
       "      <td>1.0</td>\n",
       "      <td>50.0</td>\n",
       "      <td>107000</td>\n",
       "      <td>...</td>\n",
       "      <td>0</td>\n",
       "      <td>0</td>\n",
       "      <td>0</td>\n",
       "      <td>0</td>\n",
       "      <td>1</td>\n",
       "      <td>40,35059</td>\n",
       "      <td>-3,82693</td>\n",
       "      <td>NaN</td>\n",
       "      <td>NaN</td>\n",
       "      <td>2140.000000</td>\n",
       "    </tr>\n",
       "    <tr>\n",
       "      <th>94</th>\n",
       "      <td>95</td>\n",
       "      <td>153995577</td>\n",
       "      <td>False</td>\n",
       "      <td>viviendas365com</td>\n",
       "      <td>911226014.0</td>\n",
       "      <td>https://www.fotocasa.es/es/comprar/vivienda/le...</td>\n",
       "      <td>3.0</td>\n",
       "      <td>2.0</td>\n",
       "      <td>120.0</td>\n",
       "      <td>320000</td>\n",
       "      <td>...</td>\n",
       "      <td>0</td>\n",
       "      <td>0</td>\n",
       "      <td>0</td>\n",
       "      <td>0</td>\n",
       "      <td>0</td>\n",
       "      <td>40,31933</td>\n",
       "      <td>-3,77574</td>\n",
       "      <td>NaN</td>\n",
       "      <td>NaN</td>\n",
       "      <td>2666.666667</td>\n",
       "    </tr>\n",
       "    <tr>\n",
       "      <th>109</th>\n",
       "      <td>110</td>\n",
       "      <td>153586414</td>\n",
       "      <td>False</td>\n",
       "      <td>area uno asesores inmobiliarios</td>\n",
       "      <td>912664081.0</td>\n",
       "      <td>https://www.fotocasa.es/es/comprar/vivienda/ma...</td>\n",
       "      <td>3.0</td>\n",
       "      <td>3.0</td>\n",
       "      <td>142.0</td>\n",
       "      <td>425000</td>\n",
       "      <td>...</td>\n",
       "      <td>0</td>\n",
       "      <td>0</td>\n",
       "      <td>0</td>\n",
       "      <td>0</td>\n",
       "      <td>0</td>\n",
       "      <td>40,3313411</td>\n",
       "      <td>-3,8313868</td>\n",
       "      <td>NaN</td>\n",
       "      <td>NaN</td>\n",
       "      <td>2992.957746</td>\n",
       "    </tr>\n",
       "    <tr>\n",
       "      <th>...</th>\n",
       "      <td>...</td>\n",
       "      <td>...</td>\n",
       "      <td>...</td>\n",
       "      <td>...</td>\n",
       "      <td>...</td>\n",
       "      <td>...</td>\n",
       "      <td>...</td>\n",
       "      <td>...</td>\n",
       "      <td>...</td>\n",
       "      <td>...</td>\n",
       "      <td>...</td>\n",
       "      <td>...</td>\n",
       "      <td>...</td>\n",
       "      <td>...</td>\n",
       "      <td>...</td>\n",
       "      <td>...</td>\n",
       "      <td>...</td>\n",
       "      <td>...</td>\n",
       "      <td>...</td>\n",
       "      <td>...</td>\n",
       "      <td>...</td>\n",
       "    </tr>\n",
       "    <tr>\n",
       "      <th>15275</th>\n",
       "      <td>15276</td>\n",
       "      <td>153903887</td>\n",
       "      <td>False</td>\n",
       "      <td>aliseda servicios de gestion inmobiliaria</td>\n",
       "      <td>911368198.0</td>\n",
       "      <td>https://www.fotocasa.es/es/comprar/vivienda/al...</td>\n",
       "      <td>3.0</td>\n",
       "      <td>1.0</td>\n",
       "      <td>78.0</td>\n",
       "      <td>138000</td>\n",
       "      <td>...</td>\n",
       "      <td>0</td>\n",
       "      <td>0</td>\n",
       "      <td>0</td>\n",
       "      <td>0</td>\n",
       "      <td>1</td>\n",
       "      <td>40,31381</td>\n",
       "      <td>-3,83733</td>\n",
       "      <td>NaN</td>\n",
       "      <td>NaN</td>\n",
       "      <td>1769.230769</td>\n",
       "    </tr>\n",
       "    <tr>\n",
       "      <th>15291</th>\n",
       "      <td>15292</td>\n",
       "      <td>151697757</td>\n",
       "      <td>False</td>\n",
       "      <td>unipiso</td>\n",
       "      <td>912788631.0</td>\n",
       "      <td>https://www.fotocasa.es/es/comprar/vivienda/al...</td>\n",
       "      <td>3.0</td>\n",
       "      <td>2.0</td>\n",
       "      <td>110.0</td>\n",
       "      <td>279000</td>\n",
       "      <td>...</td>\n",
       "      <td>0</td>\n",
       "      <td>0</td>\n",
       "      <td>0</td>\n",
       "      <td>0</td>\n",
       "      <td>0</td>\n",
       "      <td>40,3259051</td>\n",
       "      <td>-3,76318</td>\n",
       "      <td>NaN</td>\n",
       "      <td>NaN</td>\n",
       "      <td>2536.363636</td>\n",
       "    </tr>\n",
       "    <tr>\n",
       "      <th>15305</th>\n",
       "      <td>15306</td>\n",
       "      <td>153902389</td>\n",
       "      <td>False</td>\n",
       "      <td>jadein ferrero</td>\n",
       "      <td>914871639.0</td>\n",
       "      <td>https://www.fotocasa.es/es/comprar/vivienda/ma...</td>\n",
       "      <td>3.0</td>\n",
       "      <td>2.0</td>\n",
       "      <td>85.0</td>\n",
       "      <td>170000</td>\n",
       "      <td>...</td>\n",
       "      <td>0</td>\n",
       "      <td>0</td>\n",
       "      <td>0</td>\n",
       "      <td>0</td>\n",
       "      <td>0</td>\n",
       "      <td>40,2882193</td>\n",
       "      <td>-3,8098617</td>\n",
       "      <td>NaN</td>\n",
       "      <td>NaN</td>\n",
       "      <td>2000.000000</td>\n",
       "    </tr>\n",
       "    <tr>\n",
       "      <th>15322</th>\n",
       "      <td>15323</td>\n",
       "      <td>153871864</td>\n",
       "      <td>False</td>\n",
       "      <td>gestion comercial</td>\n",
       "      <td>911220662.0</td>\n",
       "      <td>https://www.fotocasa.es/es/comprar/vivienda/ma...</td>\n",
       "      <td>3.0</td>\n",
       "      <td>1.0</td>\n",
       "      <td>91.0</td>\n",
       "      <td>112000</td>\n",
       "      <td>...</td>\n",
       "      <td>0</td>\n",
       "      <td>0</td>\n",
       "      <td>0</td>\n",
       "      <td>0</td>\n",
       "      <td>0</td>\n",
       "      <td>40,28282</td>\n",
       "      <td>-3,78892</td>\n",
       "      <td>NaN</td>\n",
       "      <td>NaN</td>\n",
       "      <td>1230.769231</td>\n",
       "    </tr>\n",
       "    <tr>\n",
       "      <th>15325</th>\n",
       "      <td>15326</td>\n",
       "      <td>153901467</td>\n",
       "      <td>False</td>\n",
       "      <td>montehogar 68</td>\n",
       "      <td>911790675.0</td>\n",
       "      <td>https://www.fotocasa.es/es/comprar/vivienda/ma...</td>\n",
       "      <td>2.0</td>\n",
       "      <td>2.0</td>\n",
       "      <td>99.0</td>\n",
       "      <td>215000</td>\n",
       "      <td>...</td>\n",
       "      <td>0</td>\n",
       "      <td>0</td>\n",
       "      <td>0</td>\n",
       "      <td>0</td>\n",
       "      <td>1</td>\n",
       "      <td>40,28062</td>\n",
       "      <td>-3,79869</td>\n",
       "      <td>NaN</td>\n",
       "      <td>NaN</td>\n",
       "      <td>2171.717172</td>\n",
       "    </tr>\n",
       "  </tbody>\n",
       "</table>\n",
       "<p>907 rows × 38 columns</p>\n",
       "</div>"
      ],
      "text/plain": [
       "       Unnamed: 0  id_realEstates  isNew  \\\n",
       "1               2       153867863  False   \n",
       "3               4       152776331  False   \n",
       "85             86       153152077  False   \n",
       "94             95       153995577  False   \n",
       "109           110       153586414  False   \n",
       "...           ...             ...    ...   \n",
       "15275       15276       153903887  False   \n",
       "15291       15292       151697757  False   \n",
       "15305       15306       153902389  False   \n",
       "15322       15323       153871864  False   \n",
       "15325       15326       153901467  False   \n",
       "\n",
       "                                 realEstate_name  phone_realEstate  \\\n",
       "1              tecnocasa fuenlabrada ferrocarril       916358736.0   \n",
       "3              tecnocasa fuenlabrada ferrocarril       916358736.0   \n",
       "85                       sinergical inmobiliaria               NaN   \n",
       "94                               viviendas365com       911226014.0   \n",
       "109              area uno asesores inmobiliarios       912664081.0   \n",
       "...                                          ...               ...   \n",
       "15275  aliseda servicios de gestion inmobiliaria       911368198.0   \n",
       "15291                                    unipiso       912788631.0   \n",
       "15305                             jadein ferrero       914871639.0   \n",
       "15322                          gestion comercial       911220662.0   \n",
       "15325                              montehogar 68       911790675.0   \n",
       "\n",
       "                                            url_inmueble  rooms  bathrooms  \\\n",
       "1      https://www.fotocasa.es/es/comprar/vivienda/ma...    3.0        1.0   \n",
       "3      https://www.fotocasa.es/es/comprar/vivienda/ma...    3.0        1.0   \n",
       "85     https://www.fotocasa.es/es/comprar/vivienda/le...    1.0        1.0   \n",
       "94     https://www.fotocasa.es/es/comprar/vivienda/le...    3.0        2.0   \n",
       "109    https://www.fotocasa.es/es/comprar/vivienda/ma...    3.0        3.0   \n",
       "...                                                  ...    ...        ...   \n",
       "15275  https://www.fotocasa.es/es/comprar/vivienda/al...    3.0        1.0   \n",
       "15291  https://www.fotocasa.es/es/comprar/vivienda/al...    3.0        2.0   \n",
       "15305  https://www.fotocasa.es/es/comprar/vivienda/ma...    3.0        2.0   \n",
       "15322  https://www.fotocasa.es/es/comprar/vivienda/ma...    3.0        1.0   \n",
       "15325  https://www.fotocasa.es/es/comprar/vivienda/ma...    2.0        2.0   \n",
       "\n",
       "       surface   price  ... level5Id level6Id level7Id level8Id accuracy  \\\n",
       "1          NaN   89000  ...        0        0        0        0        1   \n",
       "3         86.0   89000  ...        0        0        0        0        0   \n",
       "85        50.0  107000  ...        0        0        0        0        1   \n",
       "94       120.0  320000  ...        0        0        0        0        0   \n",
       "109      142.0  425000  ...        0        0        0        0        0   \n",
       "...        ...     ...  ...      ...      ...      ...      ...      ...   \n",
       "15275     78.0  138000  ...        0        0        0        0        1   \n",
       "15291    110.0  279000  ...        0        0        0        0        0   \n",
       "15305     85.0  170000  ...        0        0        0        0        0   \n",
       "15322     91.0  112000  ...        0        0        0        0        0   \n",
       "15325     99.0  215000  ...        0        0        0        0        1   \n",
       "\n",
       "               latitude          longitude zipCode customZone          pps  \n",
       "1              40,28674           -3,79351     NaN        NaN          NaN  \n",
       "3      40,2853785786438  -3,79508142135624     NaN        NaN  1034.883721  \n",
       "85             40,35059           -3,82693     NaN        NaN  2140.000000  \n",
       "94             40,31933           -3,77574     NaN        NaN  2666.666667  \n",
       "109          40,3313411         -3,8313868     NaN        NaN  2992.957746  \n",
       "...                 ...                ...     ...        ...          ...  \n",
       "15275          40,31381           -3,83733     NaN        NaN  1769.230769  \n",
       "15291        40,3259051           -3,76318     NaN        NaN  2536.363636  \n",
       "15305        40,2882193         -3,8098617     NaN        NaN  2000.000000  \n",
       "15322          40,28282           -3,78892     NaN        NaN  1230.769231  \n",
       "15325          40,28062           -3,79869     NaN        NaN  2171.717172  \n",
       "\n",
       "[907 rows x 38 columns]"
      ]
     },
     "metadata": {},
     "output_type": "display_data"
    }
   ],
   "source": [
    "# TODO\n",
    "cinturon_sur = [\"Fuenlabrada\", \"Leganés\", \"Getafe\", \"Alcorcón\"]\n",
    "ds_sur = ds[ds['level5'].isin(cinturon_sur)]\n",
    "display(ds_sur)"
   ]
  },
  {
   "attachments": {},
   "cell_type": "markdown",
   "id": "severe-fisher",
   "metadata": {},
   "source": [
    "#### Ejercicio 15. Traza un gráfico de barras de la mediana de los precios y explica lo que observas (debes usar el subconjunto obtenido del Ejercicio 14) (★★★)\n",
    "\n",
    "Imprima un gráfico de barras de la mediana de precios y escriba en la celda Markdown un breve análisis sobre el gráfico."
   ]
  },
  {
   "cell_type": "code",
   "execution_count": 16,
   "id": "lyric-bunch",
   "metadata": {},
   "outputs": [
    {
     "data": {
      "image/png": "[encoded data removed]",
      "text/plain": [
       "<Figure size 1000x500 with 1 Axes>"
      ]
     },
     "metadata": {},
     "output_type": "display_data"
    }
   ],
   "source": [
    "# TODO: Code\n",
    "mediana_precios_sur = ds_sur.groupby('level5')['price'].median()\n",
    "plt.figure(figsize = (10,5))\n",
    "plt.bar(mediana_precios_sur.index, mediana_precios_sur.values)\n",
    "plt.xlabel('Población')\n",
    "plt.ylabel('Mediana de precios')\n",
    "plt.show()"
   ]
  },
  {
   "attachments": {},
   "cell_type": "markdown",
   "id": "sublime-newspaper",
   "metadata": {},
   "source": [
    "La mediana representa el valor central. Getafe tiene la mediana de precios más alta entre las poblaciones, superando los 250000, mientras que Fuenlabrada presenta la mediana más baja. Esto sugiere que, Getafe es la población con los precios más altos de las cuatro."
   ]
  },
  {
   "attachments": {},
   "cell_type": "markdown",
   "id": "speaking-diamond",
   "metadata": {},
   "source": [
    "#### Ejercicio 16. Calcula la media y la varianza de muestra para las siguientes variables: precio, habitaciones, superficie y baños (debes usar el subconjunto obtenido del Ejercicio 14) (★★★)\n",
    "\n",
    "Imprime ambos valores por cada variable."
   ]
  },
  {
   "cell_type": "code",
   "execution_count": 17,
   "id": "random-feeling",
   "metadata": {},
   "outputs": [
    {
     "name": "stdout",
     "output_type": "stream",
     "text": [
      "price: La media es 223094.48070562293 y la varianza es 14921367508.04902\n",
      "rooms: La media es 3.0177383592017737 y la varianza es 0.7188858892927542\n",
      "surface: La media es 111.75222363405337 y la varianza es 4263.051760316337\n",
      "bathrooms: La media es 1.633221850613155 y la varianza es 0.5717968625577321\n"
     ]
    }
   ],
   "source": [
    "# TODO\n",
    "def media_var (variable, dataset):\n",
    "    calc_media = dataset[variable].mean()\n",
    "    calc_varianza = dataset[variable].var()\n",
    "    print(f\"{variable}: La media es {calc_media} y la varianza es {calc_varianza}\")\n",
    "    return None\n",
    "variables = ['price', 'rooms', 'surface', 'bathrooms']\n",
    "for i in variables:\n",
    "    media_var(i,ds_sur)\n",
    "\n",
    "\n"
   ]
  },
  {
   "attachments": {},
   "cell_type": "markdown",
   "id": "revolutionary-matrix",
   "metadata": {},
   "source": [
    "#### Ejercicio 17. ¿Cuál es la casa más cara de cada población? Debes usar el subset obtenido en la pregunta 14 (★★☆)\n",
    "\n",
    "Imprime tanto la dirección como el precio de la casa seleccionada de cada población. Puedes imprimir un DataFrame o una sola línea para cada población."
   ]
  },
  {
   "cell_type": "code",
   "execution_count": 18,
   "id": "fifteen-browse",
   "metadata": {},
   "outputs": [
    {
     "name": "stdout",
     "output_type": "stream",
     "text": [
      "            level5                                address    price\n",
      "5585      Alcorcón                               Alcorcón   950000\n",
      "11561  Fuenlabrada  Calle de Paulo Freire, 5, Fuenlabrada   490000\n",
      "2881        Getafe                                 Getafe  1050000\n",
      "10412      Leganés           Avenida Reina Sofía, Leganés   650000\n"
     ]
    }
   ],
   "source": [
    "# TODO\n",
    "casas_mas_caras = ds_sur.loc[ds_sur.groupby('level5')['price'].idxmax()]\n",
    "print(casas_mas_caras[['level5', 'address', 'price']])"
   ]
  },
  {
   "attachments": {},
   "cell_type": "markdown",
   "id": "activated-knight",
   "metadata": {},
   "source": [
    "#### Ejercicio 18. Normaliza la variable de precios para cada población y traza los 4 histogramas en el mismo gráfico (debes usar el subconjunto obtenido en la pregunta 14) (★★★)\n",
    "\n",
    "Para el método de normalización, puedes usar el que consideres adecuado, no hay una única respuesta correcta para esta pregunta. Imprime el gráfico y escribe en la celda de Markdown un breve análisis sobre el gráfico.\n",
    "\n",
    "Pista: Puedes ayudarte revisando la demostración multihist de Matplotlib."
   ]
  },
  {
   "cell_type": "code",
   "execution_count": 19,
   "id": "civic-meditation",
   "metadata": {},
   "outputs": [
    {
     "data": {
      "image/png": "[encoded data removed]",
      "text/plain": [
       "<Figure size 1000x600 with 1 Axes>"
      ]
     },
     "metadata": {},
     "output_type": "display_data"
    }
   ],
   "source": [
    "# TODO\n",
    "plt.figure(figsize=(10, 6))\n",
    "for poblacion in cinturon_sur:\n",
    "    precios = ds_sur[ds_sur['level5'] == poblacion]['price']\n",
    "    media= precios.mean()\n",
    "    desviacion_tipica = precios.std()\n",
    "    precios_normalizados = (precios - media) / desviacion_tipica\n",
    "    plt.hist(precios_normalizados, bins = 20, alpha = 0.4, label = f\"Población: {poblacion}\")\n",
    "plt.legend()\n",
    "plt.title('Histograma de precios normalizados por población')\n",
    "plt.xlabel('Precio normalizado')\n",
    "plt.show()"
   ]
  },
  {
   "attachments": {},
   "cell_type": "markdown",
   "id": "precise-heavy",
   "metadata": {},
   "source": [
    "La normalización permite comparar las distribuciones de precios entre las poblaciones de forma directa, sin verse afectadas por las diferencias de escala.\n",
    "En general, todas las poblaciones muestran una concentración en precios bajos, destacando Getafe con ese pico en torno al -1.\n"
   ]
  },
  {
   "attachments": {},
   "cell_type": "markdown",
   "id": "patent-jonathan",
   "metadata": {},
   "source": [
    "#### Ejercicio 19. ¿Qué puedes decir sobre el precio por metro cuadrado (precio/m2) entre los municipios de 'Getafe' y 'Alcorcón'? Debes usar el subconjunto obtenido en la pregunta 14 (★★☆)\n",
    "\n",
    "Pista: Crea una nueva columna llamada `pps` (price per square en inglés) y luego analiza los valores"
   ]
  },
  {
   "cell_type": "code",
   "execution_count": 20,
   "id": "initial-liverpool",
   "metadata": {},
   "outputs": [
    {
     "name": "stdout",
     "output_type": "stream",
     "text": [
      "Precios por metro cuadrado en Getafe:\n",
      "169      1487.179487\n",
      "232      2113.846154\n",
      "233      1632.530120\n",
      "269      1611.290323\n",
      "381      1625.000000\n",
      "            ...     \n",
      "14999    1738.095238\n",
      "15002    2331.893443\n",
      "15034    3262.773723\n",
      "15087    3097.043478\n",
      "15117    2946.428571\n",
      "Name: pps, Length: 290, dtype: float64\n",
      "\n",
      "--------------------------\n",
      "\n",
      "Precios por metro cuadrado en Alcorcón:\n",
      "85       2140.000000\n",
      "109      2992.957746\n",
      "765      2275.229358\n",
      "816      3114.583333\n",
      "827      1844.615385\n",
      "            ...     \n",
      "14896    2076.923077\n",
      "15144    3548.387097\n",
      "15166    2397.260274\n",
      "15191    3117.647059\n",
      "15223    3023.529412\n",
      "Name: pps, Length: 190, dtype: float64\n",
      "\n",
      "--------------------------\n",
      "\n",
      "El precio medio por metro cuadrado en Getafe es: 2066.314949251463\n",
      "El precio medio por metro cuadrado en Alcorcón es: 2239.302480199618\n"
     ]
    }
   ],
   "source": [
    "# TODO\n",
    "ds_getafe = ds_sur[ds_sur['level5'] == 'Getafe']\n",
    "ds_alcorcon = ds_sur[ds_sur['level5'] == 'Alcorcón']\n",
    "pps_getafe = ds_getafe['pps']\n",
    "pps_alcorcon = ds_alcorcon['pps']\n",
    "print(f\"Precios por metro cuadrado en Getafe:\\n{pps_getafe}\")\n",
    "print(\"\\n--------------------------\\n\")\n",
    "print(f\"Precios por metro cuadrado en Alcorcón:\\n{pps_alcorcon}\")\n",
    "print(\"\\n--------------------------\\n\")\n",
    "media_pps_getafe = ds_getafe[\"pps\"].mean()\n",
    "media_pps_alcorcon = ds_alcorcon[\"pps\"].mean()\n",
    "print(f\"El precio medio por metro cuadrado en Getafe es: {media_pps_getafe}\")\n",
    "print(f\"El precio medio por metro cuadrado en Alcorcón es: {media_pps_alcorcon}\")\n",
    "\n"
   ]
  },
  {
   "attachments": {},
   "cell_type": "markdown",
   "id": "enhanced-moscow",
   "metadata": {},
   "source": [
    "#### Ejercicio 20. Realiza el mismo gráfico para 4 poblaciones diferentes (columna level5) y colócalos en el mismo gráfico. Debes usar el subconjunto obtenido en la pregunta 14 (★★☆) \n",
    "Pista: Haz un diagrama de dispersión de cada población usando subgráficos (subplots)."
   ]
  },
  {
   "cell_type": "code",
   "execution_count": 21,
   "id": "accepting-airfare",
   "metadata": {},
   "outputs": [
    {
     "data": {
      "image/png": "[encoded data removed]",
      "text/plain": [
       "<Figure size 1200x1000 with 4 Axes>"
      ]
     },
     "metadata": {},
     "output_type": "display_data"
    }
   ],
   "source": [
    "# TODO\n",
    "fig, axis = plt.subplots(2, 2, figsize=(12, 10))\n",
    "for i, poblacion in enumerate(cinturon_sur):\n",
    "    pobl_filtro = ds_sur[ds_sur[\"level5\"] == poblacion]\n",
    "    precios = pobl_filtro[\"price\"]\n",
    "    superficie = pobl_filtro[\"surface\"]\n",
    "    row = i // 2\n",
    "    col = i % 2\n",
    "    axis[row, col].scatter(superficie, precios)\n",
    "    axis[row, col].set_title(f\"Relación precio-superficie en {poblacion}\")\n",
    "    axis[row, col].set_xlabel(\"Superficie\")\n",
    "    axis[row, col].set_ylabel(\"Precio\")\n",
    "plt.tight_layout()\n",
    "plt.show()"
   ]
  },
  {
   "attachments": {},
   "cell_type": "markdown",
   "id": "blocked-effects",
   "metadata": {},
   "source": [
    "#### Ejercicio 21. Realiza un trazado de las coordenadas (columnas latitud y longitud) del cinturón sur de Madrid por color de cada población (debes usar el subconjunto obtenido del Ejercicio 14) (★★★★)\n",
    "\n",
    "Ejecuta la siguiente celda y luego comienza a codear en la siguiente. Debes implementar un código simple que transforme las columnas de coordenadas en un diccionario de Python (agrega más información si es necesario) y agrégala al mapa."
   ]
  },
  {
   "cell_type": "code",
   "execution_count": 22,
   "id": "headed-privacy",
   "metadata": {},
   "outputs": [
    {
     "data": {
      "application/vnd.jupyter.widget-view+json": {
       "model_id": "a1cf54ffc91e4d85a67a2f48a7192f55",
       "version_major": 2,
       "version_minor": 0
      },
      "text/plain": [
       "Map(center=[40.4168, -3.7038], controls=(ZoomControl(options=['position', 'zoom_in_text', 'zoom_in_title', 'zo…"
      ]
     },
     "execution_count": 22,
     "metadata": {},
     "output_type": "execute_result"
    }
   ],
   "source": [
    "from ipyleaflet import Map, basemaps, CircleMarker, LayerGroup\n",
    "\n",
    "# Mapa centrado en (60 grados latitud y -2.2 grados longitud)\n",
    "# Latitud, longitud\n",
    "map = Map(center = (40.4168, -3.7038), zoom = 10, min_zoom = 1, max_zoom = 20, basemap=basemaps.OpenStreetMap.Mapnik)\n",
    "map"
   ]
  },
  {
   "cell_type": "code",
   "execution_count": 23,
   "id": "present-mistress",
   "metadata": {},
   "outputs": [
    {
     "name": "stderr",
     "output_type": "stream",
     "text": [
      "/tmp/ipykernel_649/1171816191.py:5: SettingWithCopyWarning: \n",
      "A value is trying to be set on a copy of a slice from a DataFrame.\n",
      "Try using .loc[row_indexer,col_indexer] = value instead\n",
      "\n",
      "See the caveats in the documentation: https://pandas.pydata.org/pandas-docs/stable/user_guide/indexing.html#returning-a-view-versus-a-copy\n",
      "  ds_sur['latitude'] = ds_sur['latitude'].str.replace(',', '.').astype(float)\n",
      "/tmp/ipykernel_649/1171816191.py:6: SettingWithCopyWarning: \n",
      "A value is trying to be set on a copy of a slice from a DataFrame.\n",
      "Try using .loc[row_indexer,col_indexer] = value instead\n",
      "\n",
      "See the caveats in the documentation: https://pandas.pydata.org/pandas-docs/stable/user_guide/indexing.html#returning-a-view-versus-a-copy\n",
      "  ds_sur['longitude'] = ds_sur['longitude'].str.replace(',', '.').astype(float)\n"
     ]
    },
    {
     "data": {
      "application/vnd.jupyter.widget-view+json": {
       "model_id": "a1cf54ffc91e4d85a67a2f48a7192f55",
       "version_major": 2,
       "version_minor": 0
      },
      "text/plain": [
       "Map(center=[40.4168, -3.7038], controls=(ZoomControl(options=['position', 'zoom_in_text', 'zoom_in_title', 'zo…"
      ]
     },
     "execution_count": 23,
     "metadata": {},
     "output_type": "execute_result"
    }
   ],
   "source": [
    "## Aquí: traza la coordenadas de los estados\n",
    "\n",
    "## PON TU CÓDIGO AQUÍ:\n",
    "# Convertir las coordenadas de comas a puntos\n",
    "ds_sur['latitude'] = ds_sur['latitude'].str.replace(',', '.').astype(float)\n",
    "ds_sur['longitude'] = ds_sur['longitude'].str.replace(',', '.').astype(float)\n",
    "\n",
    "# Crear el diccionario de coordenadas por población\n",
    "coordenadas_dict = {}\n",
    "for _, fila in ds_sur.iterrows():\n",
    "    poblacion = fila['level5']\n",
    "    coordenada = (fila['latitude'], fila['longitude'])\n",
    "    if poblacion not in coordenadas_dict:\n",
    "        coordenadas_dict[poblacion] = []\n",
    "    coordenadas_dict[poblacion].append(coordenada)\n",
    "\n",
    "# Asignar colores distintos a cada población\n",
    "colores = {\n",
    "    'Getafe': 'blue',\n",
    "    'Leganés': 'red',\n",
    "    'Alcorcón': 'green',\n",
    "    'Fuenlabrada': 'purple',\n",
    "    'Parla': 'orange'\n",
    "}\n",
    "\n",
    "# Crear CircleMarkers usando el diccionario\n",
    "circulos = []\n",
    "for poblacion, coordenadas in coordenadas_dict.items():\n",
    "    for lat, lon in coordenadas:\n",
    "        circulo = CircleMarker(location=(lat, lon),\n",
    "                               radius=5,  \n",
    "                               color=colores.get(poblacion),  \n",
    "                               fill_color=colores.get(poblacion),  \n",
    "                               fill_opacity=0.7,  \n",
    "                               weight=2) \n",
    "        circulos.append(circulo)\n",
    "\n",
    "# Añadir los CircleMarkers en un grupo de capas y al mapa\n",
    "layer_group = LayerGroup(layers=circulos)\n",
    "map.add_layer(layer_group)\n",
    "\n",
    "map"
   ]
  }
 ],
 "metadata": {
  "kernelspec": {
   "display_name": "Python 3",
   "language": "python",
   "name": "python3"
  },
  "language_info": {
   "codemirror_mode": {
    "name": "ipython",
    "version": 3
   },
   "file_extension": ".py",
   "mimetype": "text/x-python",
   "name": "python",
   "nbconvert_exporter": "python",
   "pygments_lexer": "ipython3",
   "version": "3.11.4"
  }
 },
 "nbformat": 4,
 "nbformat_minor": 5
}
